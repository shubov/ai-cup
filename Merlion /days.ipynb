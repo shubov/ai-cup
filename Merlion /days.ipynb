{
 "cells": [
  {
   "cell_type": "code",
   "execution_count": 3,
   "metadata": {
    "collapsed": true,
    "pycharm": {
     "name": "#%%\n"
    }
   },
   "outputs": [],
   "source": [
    "from merlion.utils import TimeSeries\n",
    "import pandas as pd\n",
    "from pandas import DataFrame\n",
    "import numpy as np\n",
    "import matplotlib.pyplot as plt\n",
    "from data.starting_kit.ts_split import GroupedTimeSeriesSplit\n",
    "from merlion.models.defaults import DefaultForecasterConfig, DefaultForecaster\n",
    "from datetime import datetime\n",
    "from merlion.evaluate.forecast import ForecastMetric\n",
    "from merlion.models.factory import ModelFactory\n",
    "from merlion.models.ensemble.combine import ModelSelector\n",
    "from merlion.evaluate.forecast import ForecastMetric"
   ]
  },
  {
   "cell_type": "code",
   "execution_count": 8,
   "outputs": [
    {
     "data": {
      "text/plain": "                   0        1         2         3         4        5   \\\n2017-01-01  1673.8655  143.162  586.9155  2094.588  1260.608  432.268   \n2017-01-02  1463.3230  130.557  532.9330  1845.933  1024.438  361.388   \n2017-01-03  1132.2910   99.234  407.0630  1475.750   725.995  279.199   \n2017-01-04  1183.8085   91.932  325.4720  1553.638   702.530  306.612   \n2017-01-05  1125.2870   76.781  328.4645  1572.033   672.427  277.665   \n\n                 6          7          8        9   ...      51       52  \\\n2017-01-01  211.028  1191.6520  1456.7335  503.095  ...  23.534  313.948   \n2017-01-02  158.281  1022.2485  1319.9650  356.898  ...  32.657  190.435   \n2017-01-03  125.445   765.0000   991.8735  257.116  ...  15.138  110.994   \n2017-01-04  119.487   741.4780  1011.5705  278.864  ...  19.211   55.876   \n2017-01-05  116.686   677.7000  1038.2905  284.385  ...  10.200   57.125   \n\n                 53      54       55      56      57        58       59  \\\n2017-01-01  196.943  36.989  153.074  19.533  80.263  175.5120  40.8825   \n2017-01-02  153.460  42.530  104.633  20.703  69.607  140.6670  31.2955   \n2017-01-03   88.819  33.476   79.647  14.527  38.887  108.7145  29.8745   \n2017-01-04   78.585  30.363   75.137  16.648  53.533  117.0440  33.0020   \n2017-01-05   79.498  30.640   76.458  17.598  48.185  119.8990  37.0340   \n\n                 60  \n2017-01-01  112.112  \n2017-01-02   92.511  \n2017-01-03   64.486  \n2017-01-04   54.094  \n2017-01-05   48.022  \n\n[5 rows x 61 columns]",
      "text/html": "<div>\n<style scoped>\n    .dataframe tbody tr th:only-of-type {\n        vertical-align: middle;\n    }\n\n    .dataframe tbody tr th {\n        vertical-align: top;\n    }\n\n    .dataframe thead th {\n        text-align: right;\n    }\n</style>\n<table border=\"1\" class=\"dataframe\">\n  <thead>\n    <tr style=\"text-align: right;\">\n      <th></th>\n      <th>0</th>\n      <th>1</th>\n      <th>2</th>\n      <th>3</th>\n      <th>4</th>\n      <th>5</th>\n      <th>6</th>\n      <th>7</th>\n      <th>8</th>\n      <th>9</th>\n      <th>...</th>\n      <th>51</th>\n      <th>52</th>\n      <th>53</th>\n      <th>54</th>\n      <th>55</th>\n      <th>56</th>\n      <th>57</th>\n      <th>58</th>\n      <th>59</th>\n      <th>60</th>\n    </tr>\n  </thead>\n  <tbody>\n    <tr>\n      <th>2017-01-01</th>\n      <td>1673.8655</td>\n      <td>143.162</td>\n      <td>586.9155</td>\n      <td>2094.588</td>\n      <td>1260.608</td>\n      <td>432.268</td>\n      <td>211.028</td>\n      <td>1191.6520</td>\n      <td>1456.7335</td>\n      <td>503.095</td>\n      <td>...</td>\n      <td>23.534</td>\n      <td>313.948</td>\n      <td>196.943</td>\n      <td>36.989</td>\n      <td>153.074</td>\n      <td>19.533</td>\n      <td>80.263</td>\n      <td>175.5120</td>\n      <td>40.8825</td>\n      <td>112.112</td>\n    </tr>\n    <tr>\n      <th>2017-01-02</th>\n      <td>1463.3230</td>\n      <td>130.557</td>\n      <td>532.9330</td>\n      <td>1845.933</td>\n      <td>1024.438</td>\n      <td>361.388</td>\n      <td>158.281</td>\n      <td>1022.2485</td>\n      <td>1319.9650</td>\n      <td>356.898</td>\n      <td>...</td>\n      <td>32.657</td>\n      <td>190.435</td>\n      <td>153.460</td>\n      <td>42.530</td>\n      <td>104.633</td>\n      <td>20.703</td>\n      <td>69.607</td>\n      <td>140.6670</td>\n      <td>31.2955</td>\n      <td>92.511</td>\n    </tr>\n    <tr>\n      <th>2017-01-03</th>\n      <td>1132.2910</td>\n      <td>99.234</td>\n      <td>407.0630</td>\n      <td>1475.750</td>\n      <td>725.995</td>\n      <td>279.199</td>\n      <td>125.445</td>\n      <td>765.0000</td>\n      <td>991.8735</td>\n      <td>257.116</td>\n      <td>...</td>\n      <td>15.138</td>\n      <td>110.994</td>\n      <td>88.819</td>\n      <td>33.476</td>\n      <td>79.647</td>\n      <td>14.527</td>\n      <td>38.887</td>\n      <td>108.7145</td>\n      <td>29.8745</td>\n      <td>64.486</td>\n    </tr>\n    <tr>\n      <th>2017-01-04</th>\n      <td>1183.8085</td>\n      <td>91.932</td>\n      <td>325.4720</td>\n      <td>1553.638</td>\n      <td>702.530</td>\n      <td>306.612</td>\n      <td>119.487</td>\n      <td>741.4780</td>\n      <td>1011.5705</td>\n      <td>278.864</td>\n      <td>...</td>\n      <td>19.211</td>\n      <td>55.876</td>\n      <td>78.585</td>\n      <td>30.363</td>\n      <td>75.137</td>\n      <td>16.648</td>\n      <td>53.533</td>\n      <td>117.0440</td>\n      <td>33.0020</td>\n      <td>54.094</td>\n    </tr>\n    <tr>\n      <th>2017-01-05</th>\n      <td>1125.2870</td>\n      <td>76.781</td>\n      <td>328.4645</td>\n      <td>1572.033</td>\n      <td>672.427</td>\n      <td>277.665</td>\n      <td>116.686</td>\n      <td>677.7000</td>\n      <td>1038.2905</td>\n      <td>284.385</td>\n      <td>...</td>\n      <td>10.200</td>\n      <td>57.125</td>\n      <td>79.498</td>\n      <td>30.640</td>\n      <td>76.458</td>\n      <td>17.598</td>\n      <td>48.185</td>\n      <td>119.8990</td>\n      <td>37.0340</td>\n      <td>48.022</td>\n    </tr>\n  </tbody>\n</table>\n<p>5 rows × 61 columns</p>\n</div>"
     },
     "execution_count": 8,
     "metadata": {},
     "output_type": "execute_result"
    }
   ],
   "source": [
    "df = pd.read_csv('../data/starting_kit/train.csv')\n",
    "# drop index for feature preparation\n",
    "df_ = df.drop(columns='pseudo_id')\n",
    "# convert dates to pandas datetime\n",
    "df_.columns = [datetime.strptime(c, \"%Y-%m-%d %H:%M:%S\") for c in df_.columns]\n",
    "# Aggregate energy use values per day\n",
    "df_ = df_.T.groupby(df_.T.index.date).sum()\n",
    "# Set dates for development phase\n",
    "new_date_range = pd.date_range(start=\"2017-01-01\", end=\"2019-09-04\", freq=\"D\")\n",
    "# Add test dates in the data frame\n",
    "df_ = df_.reindex(new_date_range, fill_value = 0) # using dummy values in test set\n",
    "# df_ = df_.T\n",
    "df_.index = pd.to_datetime(df_.index)\n",
    "df_.index.freq = 'D'\n",
    "df_.head()"
   ],
   "metadata": {
    "collapsed": false,
    "pycharm": {
     "name": "#%%\n"
    }
   }
  },
  {
   "cell_type": "code",
   "execution_count": 5,
   "outputs": [],
   "source": [
    "tscv = GroupedTimeSeriesSplit(train_window= 38, test_window=7, train_gap = 0)"
   ],
   "metadata": {
    "collapsed": false,
    "pycharm": {
     "name": "#%%\n"
    }
   }
  },
  {
   "cell_type": "code",
   "execution_count": 6,
   "outputs": [],
   "source": [
    "### Define models to be used in the ensemble\n",
    "max_target_seq_index = df_.shape[1]"
   ],
   "metadata": {
    "collapsed": false,
    "pycharm": {
     "name": "#%%\n"
    }
   }
  },
  {
   "cell_type": "code",
   "execution_count": null,
   "outputs": [],
   "source": [
    "for target_seq_index in range(0, max_target_seq_index):\n",
    "    print(\"Dwelling:\", target_seq_index)\n",
    "    kwargs = dict(max_forecast_steps=7, target_seq_index=target_seq_index)\n",
    "\n",
    "    model1 = ModelFactory.create(\"DefaultForecaster\", **kwargs)\n",
    "\n",
    "    model2 = ModelFactory.create(\"Arima\", **kwargs)\n",
    "    model3 = ModelFactory.create(\"LGBMForecaster\", maxlags=7, **kwargs)\n",
    "\n",
    "    # This ModelSelector combiner picks the best model based on sMAPE\n",
    "    model = ModelFactory.create(\"ForecasterEnsemble\", models=[model1, model2, model3],\n",
    "                                     combiner=ModelSelector(metric=ForecastMetric.sMAPE))\n",
    "\n",
    "    split = 0\n",
    "    for train_ind, test_ind in tscv.split(df_, y=df_, dates = df_.index):\n",
    "        print(\"** Split:\", split)\n",
    "        split += 1\n",
    "\n",
    "        ### Prepare data for training\n",
    "        train_ind_all = range(train_ind[-1]+1)\n",
    "        X_train_df = df_.iloc[train_ind_all].copy()\n",
    "        X_train = TimeSeries.from_pd(X_train_df)\n",
    "\n",
    "        ### Prepare data for testing\n",
    "        X_test_df = df_.iloc[test_ind].copy()\n",
    "        X_test = TimeSeries.from_pd(X_test_df)\n",
    "        target_univariate = X_test.univariates[X_test.names[target_seq_index]]\n",
    "        target = target_univariate.to_ts()\n",
    "\n",
    "        train_pred, train_stderr = model.train(X_train)\n",
    "\n",
    "        forecast, stderr = model.forecast(target.time_stamps)\n",
    "        forecast = DataFrame(forecast.to_pd())\n",
    "        forecast = forecast.values.reshape(7)\n",
    "        df_.iloc[test_ind,target_seq_index] = forecast"
   ],
   "metadata": {
    "collapsed": false,
    "pycharm": {
     "name": "#%%\n",
     "is_executing": true
    }
   }
  },
  {
   "cell_type": "code",
   "execution_count": 12,
   "outputs": [],
   "source": [
    "df_.to_csv('./out/days.csv', index=False)"
   ],
   "metadata": {
    "collapsed": false,
    "pycharm": {
     "name": "#%%\n"
    }
   }
  },
  {
   "cell_type": "code",
   "execution_count": null,
   "outputs": [],
   "source": [
    "new_date_range = pd.date_range(start=\"2018-01-01\", end=\"2019-01-01\", freq=\"D\")\n",
    "df_year_17 = df_.reindex(new_date_range)\n",
    "df_year_17.loc[: , 0].plot(figsize=(12,6))"
   ],
   "metadata": {
    "collapsed": false,
    "pycharm": {
     "name": "#%%\n"
    }
   }
  }
 ],
 "metadata": {
  "kernelspec": {
   "display_name": "Python 3",
   "language": "python",
   "name": "python3"
  },
  "language_info": {
   "codemirror_mode": {
    "name": "ipython",
    "version": 2
   },
   "file_extension": ".py",
   "mimetype": "text/x-python",
   "name": "python",
   "nbconvert_exporter": "python",
   "pygments_lexer": "ipython2",
   "version": "2.7.6"
  }
 },
 "nbformat": 4,
 "nbformat_minor": 0
}