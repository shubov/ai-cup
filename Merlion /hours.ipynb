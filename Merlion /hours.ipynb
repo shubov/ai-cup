{
 "cells": [
  {
   "cell_type": "code",
   "execution_count": 1,
   "metadata": {
    "collapsed": true,
    "pycharm": {
     "name": "#%%\n"
    }
   },
   "outputs": [],
   "source": [
    "from merlion.utils import TimeSeries\n",
    "import pandas as pd\n",
    "from pandas import DataFrame\n",
    "import numpy as np\n",
    "import matplotlib.pyplot as plt\n",
    "from data.starting_kit.ts_split import GroupedTimeSeriesSplit\n",
    "from merlion.models.defaults import DefaultForecasterConfig, DefaultForecaster\n",
    "from datetime import datetime\n",
    "from merlion.evaluate.forecast import ForecastMetric\n",
    "from merlion.models.factory import ModelFactory\n",
    "from merlion.models.ensemble.combine import ModelSelector\n",
    "from merlion.evaluate.forecast import ForecastMetric"
   ]
  },
  {
   "cell_type": "code",
   "execution_count": null,
   "outputs": [],
   "source": [
    "df = pd.read_csv('../data/starting_kit/train.csv')\n",
    "# drop index for feature preparation\n",
    "df_ = df.drop(columns='pseudo_id')\n",
    "df.tail()"
   ],
   "metadata": {
    "collapsed": false,
    "pycharm": {
     "name": "#%%\n"
    }
   }
  },
  {
   "cell_type": "code",
   "execution_count": 3,
   "outputs": [],
   "source": [
    "\n",
    "# convert dates to pandas datetime\n",
    "df_.columns = [datetime.strptime(c, \"%Y-%m-%d %H:%M:%S\") for c in df_.columns]\n",
    "# Aggregate energy use values per day\n",
    "\n",
    "df_ = df_.T.resample(\"H\").sum()\n",
    "# Set dates for development phase\n",
    "new_date_range = pd.date_range(start=\"2017-01-01\", end=\"2019-09-05\", freq=\"H\")\n",
    "# Add test dates in the data frame\n",
    "df_ = df_.reindex(new_date_range, fill_value = 0) # using dummy values in test set\n",
    "# df_ = df_.T\n",
    "df_.index = pd.to_datetime(df_.index)"
   ],
   "metadata": {
    "collapsed": false,
    "pycharm": {
     "name": "#%%\n"
    }
   }
  },
  {
   "cell_type": "code",
   "execution_count": null,
   "outputs": [],
   "source": [
    "df_.tail()"
   ],
   "metadata": {
    "collapsed": false,
    "pycharm": {
     "name": "#%%\n"
    }
   }
  },
  {
   "cell_type": "code",
   "execution_count": 5,
   "outputs": [],
   "source": [
    "tscv = GroupedTimeSeriesSplit(train_window= 912, test_window=168, train_gap = 0, freq=\"H\")"
   ],
   "metadata": {
    "collapsed": false,
    "pycharm": {
     "name": "#%%\n"
    }
   }
  },
  {
   "cell_type": "code",
   "execution_count": 6,
   "outputs": [],
   "source": [
    "### Define models to be used in the ensemble\n",
    "max_target_seq_index = df_.shape[1]\n",
    "max_forecast_steps = 168\n",
    "models = []"
   ],
   "metadata": {
    "collapsed": false,
    "pycharm": {
     "name": "#%%\n"
    }
   }
  },
  {
   "cell_type": "code",
   "execution_count": null,
   "outputs": [],
   "source": [
    "for target_seq_index in range(0, max_target_seq_index):\n",
    "    print(\"Dwelling:\", target_seq_index)\n",
    "    kwargs = dict(max_forecast_steps=max_forecast_steps, target_seq_index=target_seq_index)\n",
    "\n",
    "    model1 = ModelFactory.create(\"DefaultForecaster\", **kwargs)\n",
    "\n",
    "    model2 = ModelFactory.create(\"Arima\", **kwargs)\n",
    "\n",
    "    # This ModelSelector combiner picks the best model based on sMAPE\n",
    "    model3 = ModelFactory.create(\"ForecasterEnsemble\", models=[model1, model2],\n",
    "                                     combiner=ModelSelector(metric=ForecastMetric.sMAPE))\n",
    "\n",
    "    localModels = [model1, model2, model3]\n",
    "    split = 0\n",
    "    for train_ind, test_ind in tscv.split(df_, y=df_, dates = df_.index):\n",
    "        print(\"** Split:\", split)\n",
    "        split += 1\n",
    "\n",
    "        ### Prepare data for training\n",
    "        train_ind_all = range(train_ind[-1]+1)\n",
    "        X_train_df = df_.iloc[train_ind_all].copy()\n",
    "        X_train = TimeSeries.from_pd(X_train_df)\n",
    "\n",
    "        ### Prepare data for testing\n",
    "        X_test_df = df_.iloc[test_ind].copy()\n",
    "        X_test = TimeSeries.from_pd(X_test_df)\n",
    "        target_univariate = X_test.univariates[X_test.names[target_seq_index]]\n",
    "        target = target_univariate.to_ts()\n",
    "\n",
    "        model = model3\n",
    "        train_pred, train_stderr = model.train(X_train)\n",
    "\n",
    "        forecast, stderr = model.forecast(target.time_stamps)\n",
    "        forecast = DataFrame(forecast.to_pd())\n",
    "        forecast = forecast.values.reshape(max_forecast_steps)\n",
    "        df_.iloc[test_ind,target_seq_index] = forecast"
   ],
   "metadata": {
    "collapsed": false,
    "pycharm": {
     "name": "#%%\n"
    }
   }
  },
  {
   "cell_type": "code",
   "execution_count": 8,
   "outputs": [],
   "source": [
    "df_.to_csv('./out/hours.csv', index=False)"
   ],
   "metadata": {
    "collapsed": false,
    "pycharm": {
     "name": "#%%\n"
    }
   }
  },
  {
   "cell_type": "code",
   "execution_count": null,
   "outputs": [],
   "source": [
    "new_date_range = pd.date_range(start=\"2019-08-01\", end=\"2017-10-01\", freq=\"H\")\n",
    "df_year_17 = df_.reindex(new_date_range)\n",
    "df_year_17.loc[: , 0].plot(figsize=(12,6))"
   ],
   "metadata": {
    "collapsed": false,
    "pycharm": {
     "name": "#%%\n"
    }
   }
  }
 ],
 "metadata": {
  "kernelspec": {
   "display_name": "Python 3",
   "language": "python",
   "name": "python3"
  },
  "language_info": {
   "codemirror_mode": {
    "name": "ipython",
    "version": 2
   },
   "file_extension": ".py",
   "mimetype": "text/x-python",
   "name": "python",
   "nbconvert_exporter": "python",
   "pygments_lexer": "ipython2",
   "version": "2.7.6"
  }
 },
 "nbformat": 4,
 "nbformat_minor": 0
}